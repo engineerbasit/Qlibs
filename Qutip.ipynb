{
 "cells": [
  {
   "cell_type": "code",
   "execution_count": 1,
   "id": "7c74ef1a-e7fc-4fb8-8d88-d79ed9fa22b3",
   "metadata": {},
   "outputs": [
    {
     "name": "stdout",
     "output_type": "stream",
     "text": [
      "Collecting qutip\n",
      "  Downloading qutip-5.0.3.post1-cp311-cp311-win_amd64.whl (9.7 MB)\n",
      "                                              0.0/9.7 MB ? eta -:--:--\n",
      "                                              0.1/9.7 MB 1.7 MB/s eta 0:00:06\n",
      "                                              0.1/9.7 MB 1.4 MB/s eta 0:00:07\n",
      "     -                                        0.3/9.7 MB 2.4 MB/s eta 0:00:04\n",
      "     --                                       0.6/9.7 MB 3.0 MB/s eta 0:00:04\n",
      "     ---                                      0.8/9.7 MB 3.7 MB/s eta 0:00:03\n",
      "     ----                                     1.0/9.7 MB 4.1 MB/s eta 0:00:03\n",
      "     ----                                     1.0/9.7 MB 4.1 MB/s eta 0:00:03\n",
      "     ------                                   1.5/9.7 MB 4.0 MB/s eta 0:00:03\n",
      "     --------                                 2.1/9.7 MB 4.9 MB/s eta 0:00:02\n",
      "     --------                                 2.1/9.7 MB 4.9 MB/s eta 0:00:02\n",
      "     --------                                 2.1/9.7 MB 4.9 MB/s eta 0:00:02\n",
      "     --------                                 2.1/9.7 MB 4.9 MB/s eta 0:00:02\n",
      "     -------------                            3.1/9.7 MB 5.4 MB/s eta 0:00:02\n",
      "     -------------                            3.1/9.7 MB 5.4 MB/s eta 0:00:02\n",
      "     -------------                            3.1/9.7 MB 5.4 MB/s eta 0:00:02\n",
      "     -------------                            3.1/9.7 MB 5.4 MB/s eta 0:00:02\n",
      "     -------------                            3.1/9.7 MB 5.4 MB/s eta 0:00:02\n",
      "     -----------------                        4.2/9.7 MB 5.0 MB/s eta 0:00:02\n",
      "     -----------------                        4.2/9.7 MB 5.0 MB/s eta 0:00:02\n",
      "     -----------------                        4.2/9.7 MB 5.0 MB/s eta 0:00:02\n",
      "     -----------------                        4.2/9.7 MB 5.0 MB/s eta 0:00:02\n",
      "     -----------------                        4.2/9.7 MB 4.0 MB/s eta 0:00:02\n",
      "     -------------------                      4.7/9.7 MB 4.1 MB/s eta 0:00:02\n",
      "     --------------------                     5.0/9.7 MB 4.4 MB/s eta 0:00:02\n",
      "     --------------------                     5.0/9.7 MB 4.4 MB/s eta 0:00:02\n",
      "     --------------------                     5.0/9.7 MB 4.4 MB/s eta 0:00:02\n",
      "     --------------------                     5.0/9.7 MB 4.4 MB/s eta 0:00:02\n",
      "     ------------------------                 5.9/9.7 MB 4.3 MB/s eta 0:00:01\n",
      "     --------------------------               6.3/9.7 MB 4.6 MB/s eta 0:00:01\n",
      "     --------------------------               6.3/9.7 MB 4.6 MB/s eta 0:00:01\n",
      "     ---------------------------              6.7/9.7 MB 4.5 MB/s eta 0:00:01\n",
      "     ------------------------------           7.3/9.7 MB 4.8 MB/s eta 0:00:01\n",
      "     ------------------------------           7.3/9.7 MB 4.8 MB/s eta 0:00:01\n",
      "     ------------------------------           7.3/9.7 MB 4.8 MB/s eta 0:00:01\n",
      "     ------------------------------           7.3/9.7 MB 4.8 MB/s eta 0:00:01\n",
      "     ----------------------------------       8.4/9.7 MB 4.9 MB/s eta 0:00:01\n",
      "     ----------------------------------       8.4/9.7 MB 4.9 MB/s eta 0:00:01\n",
      "     ----------------------------------       8.4/9.7 MB 4.9 MB/s eta 0:00:01\n",
      "     ----------------------------------       8.4/9.7 MB 4.9 MB/s eta 0:00:01\n",
      "     ----------------------------------       8.4/9.7 MB 4.9 MB/s eta 0:00:01\n",
      "     --------------------------------------   9.4/9.7 MB 4.8 MB/s eta 0:00:01\n",
      "     ---------------------------------------  9.4/9.7 MB 4.8 MB/s eta 0:00:01\n",
      "     ---------------------------------------  9.4/9.7 MB 4.8 MB/s eta 0:00:01\n",
      "     ---------------------------------------  9.4/9.7 MB 4.8 MB/s eta 0:00:01\n",
      "     ---------------------------------------  9.7/9.7 MB 4.5 MB/s eta 0:00:01\n",
      "     ---------------------------------------  9.7/9.7 MB 4.5 MB/s eta 0:00:01\n",
      "     ---------------------------------------- 9.7/9.7 MB 4.4 MB/s eta 0:00:00\n",
      "Requirement already satisfied: numpy>=1.22 in c:\\users\\abc\\appdata\\local\\programs\\python\\python311\\lib\\site-packages (from qutip) (1.24.3)\n",
      "Requirement already satisfied: scipy>=1.9 in c:\\users\\abc\\appdata\\local\\programs\\python\\python311\\lib\\site-packages (from qutip) (1.11.2)\n",
      "Requirement already satisfied: packaging in c:\\users\\abc\\appdata\\local\\programs\\python\\python311\\lib\\site-packages (from qutip) (23.2)\n",
      "Installing collected packages: qutip\n",
      "Successfully installed qutip-5.0.3.post1\n",
      "Note: you may need to restart the kernel to use updated packages.\n"
     ]
    },
    {
     "name": "stderr",
     "output_type": "stream",
     "text": [
      "\n",
      "[notice] A new release of pip is available: 23.1.2 -> 24.1.2\n",
      "[notice] To update, run: python.exe -m pip install --upgrade pip\n"
     ]
    }
   ],
   "source": [
    "pip install qutip"
   ]
  },
  {
   "cell_type": "code",
   "execution_count": 2,
   "id": "1e5bbd62-c605-495e-88ec-a9bcbf8a4548",
   "metadata": {},
   "outputs": [
    {
     "name": "stderr",
     "output_type": "stream",
     "text": [
      "C:\\Users\\ABC\\AppData\\Local\\Programs\\Python\\Python311\\Lib\\site-packages\\qutip\\__init__.py:24: UserWarning: matplotlib not found: Graphics will not work.\n",
      "  warnings.warn(\"matplotlib not found: Graphics will not work.\")\n"
     ]
    }
   ],
   "source": [
    "from qutip import *"
   ]
  },
  {
   "cell_type": "code",
   "execution_count": 3,
   "id": "fce6f773-a47e-48bf-a5a9-45e27d709319",
   "metadata": {},
   "outputs": [
    {
     "ename": "ValueError",
     "evalue": "not enough values to unpack (expected 2, got 1)",
     "output_type": "error",
     "traceback": [
      "\u001b[1;31m---------------------------------------------------------------------------\u001b[0m",
      "\u001b[1;31mValueError\u001b[0m                                Traceback (most recent call last)",
      "File \u001b[1;32m~\\AppData\\Local\\Programs\\Python\\Python311\\Lib\\site-packages\\IPython\\core\\formatters.py:344\u001b[0m, in \u001b[0;36mBaseFormatter.__call__\u001b[1;34m(self, obj)\u001b[0m\n\u001b[0;32m    342\u001b[0m     method \u001b[38;5;241m=\u001b[39m get_real_method(obj, \u001b[38;5;28mself\u001b[39m\u001b[38;5;241m.\u001b[39mprint_method)\n\u001b[0;32m    343\u001b[0m     \u001b[38;5;28;01mif\u001b[39;00m method \u001b[38;5;129;01mis\u001b[39;00m \u001b[38;5;129;01mnot\u001b[39;00m \u001b[38;5;28;01mNone\u001b[39;00m:\n\u001b[1;32m--> 344\u001b[0m         \u001b[38;5;28;01mreturn\u001b[39;00m \u001b[43mmethod\u001b[49m\u001b[43m(\u001b[49m\u001b[43m)\u001b[49m\n\u001b[0;32m    345\u001b[0m     \u001b[38;5;28;01mreturn\u001b[39;00m \u001b[38;5;28;01mNone\u001b[39;00m\n\u001b[0;32m    346\u001b[0m \u001b[38;5;28;01melse\u001b[39;00m:\n",
      "File \u001b[1;32m~\\AppData\\Local\\Programs\\Python\\Python311\\Lib\\site-packages\\qutip\\core\\qobj.py:613\u001b[0m, in \u001b[0;36mQobj._repr_latex_\u001b[1;34m(self)\u001b[0m\n\u001b[0;32m    611\u001b[0m \u001b[38;5;66;03m# Make the data array.\u001b[39;00m\n\u001b[0;32m    612\u001b[0m data \u001b[38;5;241m=\u001b[39m \u001b[38;5;124mr\u001b[39m\u001b[38;5;124m'\u001b[39m\u001b[38;5;124m$$\u001b[39m\u001b[38;5;124m\\\u001b[39m\u001b[38;5;124mleft(\u001b[39m\u001b[38;5;124m\\\u001b[39m\u001b[38;5;124mbegin\u001b[39m\u001b[38;5;132;01m{array}\u001b[39;00m\u001b[38;5;132;01m{cc}\u001b[39;00m\u001b[38;5;124m'\u001b[39m\n\u001b[1;32m--> 613\u001b[0m data \u001b[38;5;241m+\u001b[39m\u001b[38;5;241m=\u001b[39m \u001b[38;5;124;43mr\u001b[39;49m\u001b[38;5;124;43m\"\u001b[39;49m\u001b[38;5;130;43;01m\\\\\u001b[39;49;00m\u001b[38;5;124;43m\"\u001b[39;49m\u001b[38;5;241;43m.\u001b[39;49m\u001b[43mjoin\u001b[49m\u001b[43m(\u001b[49m\u001b[43m_latex_row\u001b[49m\u001b[43m(\u001b[49m\u001b[43mrow\u001b[49m\u001b[43m,\u001b[49m\u001b[43m \u001b[49m\u001b[43mcols\u001b[49m\u001b[43m,\u001b[49m\u001b[43m \u001b[49m\u001b[38;5;28;43mself\u001b[39;49m\u001b[38;5;241;43m.\u001b[39;49m\u001b[43mdata\u001b[49m\u001b[38;5;241;43m.\u001b[39;49m\u001b[43mto_array\u001b[49m\u001b[43m(\u001b[49m\u001b[43m)\u001b[49m\u001b[43m)\u001b[49m\n\u001b[0;32m    614\u001b[0m \u001b[43m                   \u001b[49m\u001b[38;5;28;43;01mfor\u001b[39;49;00m\u001b[43m \u001b[49m\u001b[43mrow\u001b[49m\u001b[43m \u001b[49m\u001b[38;5;129;43;01min\u001b[39;49;00m\u001b[43m \u001b[49m\u001b[43mrows\u001b[49m\u001b[43m)\u001b[49m\n\u001b[0;32m    615\u001b[0m data \u001b[38;5;241m+\u001b[39m\u001b[38;5;241m=\u001b[39m \u001b[38;5;124mr\u001b[39m\u001b[38;5;124m'\u001b[39m\u001b[38;5;124m\\\u001b[39m\u001b[38;5;124mend\u001b[39m\u001b[38;5;132;01m{array}\u001b[39;00m\u001b[38;5;124m\\\u001b[39m\u001b[38;5;124mright)$$\u001b[39m\u001b[38;5;124m'\u001b[39m\n\u001b[0;32m    616\u001b[0m \u001b[38;5;28;01mreturn\u001b[39;00m \u001b[38;5;28mself\u001b[39m\u001b[38;5;241m.\u001b[39m_str_header() \u001b[38;5;241m+\u001b[39m data\n",
      "File \u001b[1;32m~\\AppData\\Local\\Programs\\Python\\Python311\\Lib\\site-packages\\qutip\\core\\qobj.py:613\u001b[0m, in \u001b[0;36m<genexpr>\u001b[1;34m(.0)\u001b[0m\n\u001b[0;32m    611\u001b[0m \u001b[38;5;66;03m# Make the data array.\u001b[39;00m\n\u001b[0;32m    612\u001b[0m data \u001b[38;5;241m=\u001b[39m \u001b[38;5;124mr\u001b[39m\u001b[38;5;124m'\u001b[39m\u001b[38;5;124m$$\u001b[39m\u001b[38;5;124m\\\u001b[39m\u001b[38;5;124mleft(\u001b[39m\u001b[38;5;124m\\\u001b[39m\u001b[38;5;124mbegin\u001b[39m\u001b[38;5;132;01m{array}\u001b[39;00m\u001b[38;5;132;01m{cc}\u001b[39;00m\u001b[38;5;124m'\u001b[39m\n\u001b[1;32m--> 613\u001b[0m data \u001b[38;5;241m+\u001b[39m\u001b[38;5;241m=\u001b[39m \u001b[38;5;124mr\u001b[39m\u001b[38;5;124m\"\u001b[39m\u001b[38;5;130;01m\\\\\u001b[39;00m\u001b[38;5;124m\"\u001b[39m\u001b[38;5;241m.\u001b[39mjoin(\u001b[43m_latex_row\u001b[49m\u001b[43m(\u001b[49m\u001b[43mrow\u001b[49m\u001b[43m,\u001b[49m\u001b[43m \u001b[49m\u001b[43mcols\u001b[49m\u001b[43m,\u001b[49m\u001b[43m \u001b[49m\u001b[38;5;28;43mself\u001b[39;49m\u001b[38;5;241;43m.\u001b[39;49m\u001b[43mdata\u001b[49m\u001b[38;5;241;43m.\u001b[39;49m\u001b[43mto_array\u001b[49m\u001b[43m(\u001b[49m\u001b[43m)\u001b[49m\u001b[43m)\u001b[49m\n\u001b[0;32m    614\u001b[0m                    \u001b[38;5;28;01mfor\u001b[39;00m row \u001b[38;5;129;01min\u001b[39;00m rows)\n\u001b[0;32m    615\u001b[0m data \u001b[38;5;241m+\u001b[39m\u001b[38;5;241m=\u001b[39m \u001b[38;5;124mr\u001b[39m\u001b[38;5;124m'\u001b[39m\u001b[38;5;124m\\\u001b[39m\u001b[38;5;124mend\u001b[39m\u001b[38;5;132;01m{array}\u001b[39;00m\u001b[38;5;124m\\\u001b[39m\u001b[38;5;124mright)$$\u001b[39m\u001b[38;5;124m'\u001b[39m\n\u001b[0;32m    616\u001b[0m \u001b[38;5;28;01mreturn\u001b[39;00m \u001b[38;5;28mself\u001b[39m\u001b[38;5;241m.\u001b[39m_str_header() \u001b[38;5;241m+\u001b[39m data\n",
      "File \u001b[1;32m~\\AppData\\Local\\Programs\\Python\\Python311\\Lib\\site-packages\\qutip\\core\\qobj.py:134\u001b[0m, in \u001b[0;36m_latex_row\u001b[1;34m(row, cols, data)\u001b[0m\n\u001b[0;32m    131\u001b[0m \u001b[38;5;28;01melse\u001b[39;00m:\n\u001b[0;32m    132\u001b[0m     bits \u001b[38;5;241m=\u001b[39m (\u001b[38;5;124mr\u001b[39m\u001b[38;5;124m\"\u001b[39m\u001b[38;5;124m\\\u001b[39m\u001b[38;5;124mcdots\u001b[39m\u001b[38;5;124m\"\u001b[39m \u001b[38;5;28;01mif\u001b[39;00m col \u001b[38;5;129;01mis\u001b[39;00m \u001b[38;5;28;01mNone\u001b[39;00m \u001b[38;5;28;01melse\u001b[39;00m _latex_complex(data[row, col])\n\u001b[0;32m    133\u001b[0m             \u001b[38;5;28;01mfor\u001b[39;00m col \u001b[38;5;129;01min\u001b[39;00m cols)\n\u001b[1;32m--> 134\u001b[0m \u001b[38;5;28;01mreturn\u001b[39;00m \u001b[38;5;124;43m\"\u001b[39;49m\u001b[38;5;124;43m & \u001b[39;49m\u001b[38;5;124;43m\"\u001b[39;49m\u001b[38;5;241;43m.\u001b[39;49m\u001b[43mjoin\u001b[49m\u001b[43m(\u001b[49m\u001b[43mbits\u001b[49m\u001b[43m)\u001b[49m\n",
      "File \u001b[1;32m~\\AppData\\Local\\Programs\\Python\\Python311\\Lib\\site-packages\\qutip\\core\\qobj.py:132\u001b[0m, in \u001b[0;36m<genexpr>\u001b[1;34m(.0)\u001b[0m\n\u001b[0;32m    130\u001b[0m     bits \u001b[38;5;241m=\u001b[39m (\u001b[38;5;124mr\u001b[39m\u001b[38;5;124m\"\u001b[39m\u001b[38;5;124m\\\u001b[39m\u001b[38;5;124mddots\u001b[39m\u001b[38;5;124m\"\u001b[39m \u001b[38;5;28;01mif\u001b[39;00m col \u001b[38;5;129;01mis\u001b[39;00m \u001b[38;5;28;01mNone\u001b[39;00m \u001b[38;5;28;01melse\u001b[39;00m \u001b[38;5;124mr\u001b[39m\u001b[38;5;124m\"\u001b[39m\u001b[38;5;124m\\\u001b[39m\u001b[38;5;124mvdots\u001b[39m\u001b[38;5;124m\"\u001b[39m \u001b[38;5;28;01mfor\u001b[39;00m col \u001b[38;5;129;01min\u001b[39;00m cols)\n\u001b[0;32m    131\u001b[0m \u001b[38;5;28;01melse\u001b[39;00m:\n\u001b[1;32m--> 132\u001b[0m     bits \u001b[38;5;241m=\u001b[39m (\u001b[38;5;124mr\u001b[39m\u001b[38;5;124m\"\u001b[39m\u001b[38;5;124m\\\u001b[39m\u001b[38;5;124mcdots\u001b[39m\u001b[38;5;124m\"\u001b[39m \u001b[38;5;28;01mif\u001b[39;00m col \u001b[38;5;129;01mis\u001b[39;00m \u001b[38;5;28;01mNone\u001b[39;00m \u001b[38;5;28;01melse\u001b[39;00m \u001b[43m_latex_complex\u001b[49m\u001b[43m(\u001b[49m\u001b[43mdata\u001b[49m\u001b[43m[\u001b[49m\u001b[43mrow\u001b[49m\u001b[43m,\u001b[49m\u001b[43m \u001b[49m\u001b[43mcol\u001b[49m\u001b[43m]\u001b[49m\u001b[43m)\u001b[49m\n\u001b[0;32m    133\u001b[0m             \u001b[38;5;28;01mfor\u001b[39;00m col \u001b[38;5;129;01min\u001b[39;00m cols)\n\u001b[0;32m    134\u001b[0m \u001b[38;5;28;01mreturn\u001b[39;00m \u001b[38;5;124m\"\u001b[39m\u001b[38;5;124m & \u001b[39m\u001b[38;5;124m\"\u001b[39m\u001b[38;5;241m.\u001b[39mjoin(bits)\n",
      "File \u001b[1;32m~\\AppData\\Local\\Programs\\Python\\Python311\\Lib\\site-packages\\qutip\\core\\qobj.py:125\u001b[0m, in \u001b[0;36m_latex_complex\u001b[1;34m(x)\u001b[0m\n\u001b[0;32m    123\u001b[0m     \u001b[38;5;28;01mreturn\u001b[39;00m _latex_real(x\u001b[38;5;241m.\u001b[39mimag) \u001b[38;5;241m+\u001b[39m \u001b[38;5;124m\"\u001b[39m\u001b[38;5;124mj\u001b[39m\u001b[38;5;124m\"\u001b[39m\n\u001b[0;32m    124\u001b[0m sign \u001b[38;5;241m=\u001b[39m \u001b[38;5;124m\"\u001b[39m\u001b[38;5;124m+\u001b[39m\u001b[38;5;124m\"\u001b[39m \u001b[38;5;28;01mif\u001b[39;00m x\u001b[38;5;241m.\u001b[39mimag \u001b[38;5;241m>\u001b[39m \u001b[38;5;241m0\u001b[39m \u001b[38;5;28;01melse\u001b[39;00m \u001b[38;5;124m\"\u001b[39m\u001b[38;5;124m-\u001b[39m\u001b[38;5;124m\"\u001b[39m\n\u001b[1;32m--> 125\u001b[0m \u001b[38;5;28;01mreturn\u001b[39;00m \u001b[38;5;124m\"\u001b[39m\u001b[38;5;124m(\u001b[39m\u001b[38;5;124m\"\u001b[39m \u001b[38;5;241m+\u001b[39m \u001b[43m_latex_real\u001b[49m\u001b[43m(\u001b[49m\u001b[43mx\u001b[49m\u001b[38;5;241;43m.\u001b[39;49m\u001b[43mreal\u001b[49m\u001b[43m)\u001b[49m \u001b[38;5;241m+\u001b[39m sign \u001b[38;5;241m+\u001b[39m _latex_real(\u001b[38;5;28mabs\u001b[39m(x\u001b[38;5;241m.\u001b[39mimag)) \u001b[38;5;241m+\u001b[39m \u001b[38;5;124m\"\u001b[39m\u001b[38;5;124mj)\u001b[39m\u001b[38;5;124m\"\u001b[39m\n",
      "File \u001b[1;32m~\\AppData\\Local\\Programs\\Python\\Python311\\Lib\\site-packages\\qutip\\core\\qobj.py:112\u001b[0m, in \u001b[0;36m_latex_real\u001b[1;34m(x)\u001b[0m\n\u001b[0;32m    110\u001b[0m     \u001b[38;5;28;01mreturn\u001b[39;00m \u001b[38;5;124m\"\u001b[39m\u001b[38;5;124m0\u001b[39m\u001b[38;5;124m\"\u001b[39m\n\u001b[0;32m    111\u001b[0m \u001b[38;5;28;01mif\u001b[39;00m \u001b[38;5;129;01mnot\u001b[39;00m \u001b[38;5;241m0.001\u001b[39m \u001b[38;5;241m<\u001b[39m\u001b[38;5;241m=\u001b[39m \u001b[38;5;28mabs\u001b[39m(x) \u001b[38;5;241m<\u001b[39m \u001b[38;5;241m1000\u001b[39m:\n\u001b[1;32m--> 112\u001b[0m     base, exp \u001b[38;5;241m=\u001b[39m \u001b[38;5;124m\"\u001b[39m\u001b[38;5;132;01m{:.3e}\u001b[39;00m\u001b[38;5;124m\"\u001b[39m\u001b[38;5;241m.\u001b[39mformat(x)\u001b[38;5;241m.\u001b[39msplit(\u001b[38;5;124m'\u001b[39m\u001b[38;5;124me\u001b[39m\u001b[38;5;124m'\u001b[39m)\n\u001b[0;32m    113\u001b[0m     \u001b[38;5;28;01mreturn\u001b[39;00m base \u001b[38;5;241m+\u001b[39m \u001b[38;5;124mr\u001b[39m\u001b[38;5;124m\"\u001b[39m\u001b[38;5;124m\\\u001b[39m\u001b[38;5;124mtimes10^\u001b[39m\u001b[38;5;124m{{\u001b[39m\u001b[38;5;124m \u001b[39m\u001b[38;5;132;01m{:d}\u001b[39;00m\u001b[38;5;124m }}\u001b[39m\u001b[38;5;124m\"\u001b[39m\u001b[38;5;241m.\u001b[39mformat(\u001b[38;5;28mint\u001b[39m(exp))\n\u001b[0;32m    114\u001b[0m \u001b[38;5;28;01mif\u001b[39;00m \u001b[38;5;28mabs\u001b[39m(x \u001b[38;5;241m-\u001b[39m \u001b[38;5;28mint\u001b[39m(x)) \u001b[38;5;241m<\u001b[39m \u001b[38;5;241m0.001\u001b[39m:\n",
      "\u001b[1;31mValueError\u001b[0m: not enough values to unpack (expected 2, got 1)"
     ]
    },
    {
     "data": {
      "text/plain": [
       "Quantum object: dims=[[1], [1]], shape=(1, 1), type='scalar', dtype=Dense\n",
       "Qobj data =\n",
       "[[nan]]"
      ]
     },
     "execution_count": 3,
     "metadata": {},
     "output_type": "execute_result"
    }
   ],
   "source": [
    "Qobj()"
   ]
  },
  {
   "cell_type": "code",
   "execution_count": 14,
   "id": "3debd231-a166-44da-af62-edce3c59be51",
   "metadata": {},
   "outputs": [
    {
     "data": {
      "text/latex": [
       "Quantum object: dims=[[2], [1]], shape=(2, 1), type='ket', dtype=Dense$$\\left(\\begin{array}{cc}0\\\\1\\end{array}\\right)$$"
      ],
      "text/plain": [
       "Quantum object: dims=[[2], [1]], shape=(2, 1), type='ket', dtype=Dense\n",
       "Qobj data =\n",
       "[[0.]\n",
       " [1.]]"
      ]
     },
     "execution_count": 14,
     "metadata": {},
     "output_type": "execute_result"
    }
   ],
   "source": [
    "q1 = Qobj([[0],[1]])\n",
    "q1"
   ]
  },
  {
   "cell_type": "code",
   "execution_count": 15,
   "id": "1ba3b2fc-0c47-4037-adea-96fa1230b462",
   "metadata": {},
   "outputs": [
    {
     "name": "stdout",
     "output_type": "stream",
     "text": [
      "False\n"
     ]
    }
   ],
   "source": [
    "## Checking if something hermition or not\n",
    "print(q1.isherm)"
   ]
  },
  {
   "cell_type": "code",
   "execution_count": 33,
   "id": "edfaab91-ff52-41d6-b5af-fda2157af44c",
   "metadata": {},
   "outputs": [
    {
     "data": {
      "text/plain": [
       "array([[0.+0.j],\n",
       "       [1.+0.j]])"
      ]
     },
     "execution_count": 33,
     "metadata": {},
     "output_type": "execute_result"
    }
   ],
   "source": [
    "# Getting object in array format\n",
    "q1.full()"
   ]
  },
  {
   "cell_type": "code",
   "execution_count": 16,
   "id": "bea3bfef-b33a-4dcd-ba56-237c729c3969",
   "metadata": {},
   "outputs": [
    {
     "data": {
      "text/latex": [
       "Quantum object: dims=[[2], [2]], shape=(2, 2), type='oper', dtype=Dense, isherm=True$$\\left(\\begin{array}{cc}1 & 0\\\\0 & 1\\end{array}\\right)$$"
      ],
      "text/plain": [
       "Quantum object: dims=[[2], [2]], shape=(2, 2), type='oper', dtype=Dense, isherm=True\n",
       "Qobj data =\n",
       "[[1. 0.]\n",
       " [0. 1.]]"
      ]
     },
     "execution_count": 16,
     "metadata": {},
     "output_type": "execute_result"
    }
   ],
   "source": [
    "q2 = Qobj([[1,0],[0,1]])\n",
    "q2"
   ]
  },
  {
   "cell_type": "code",
   "execution_count": 20,
   "id": "430e66f7-0fee-4373-b3d9-b0165714c7e9",
   "metadata": {},
   "outputs": [
    {
     "name": "stdout",
     "output_type": "stream",
     "text": [
      "Checking if q2 if hermition :  True\n",
      "Finding dimensions of q2 : [[2], [2]]\n",
      "Checking type of q2 :  oper\n"
     ]
    }
   ],
   "source": [
    "print(\"Checking if q2 if hermition : \",q2.isherm)\n",
    "print(\"Finding dimensions of q2 :\",q2.dims)\n",
    "print(\"Checking type of q2 : \",q2.type)"
   ]
  },
  {
   "cell_type": "code",
   "execution_count": 22,
   "id": "699b7692-9b6b-408f-ba64-3a4c66b53b21",
   "metadata": {},
   "outputs": [
    {
     "data": {
      "text/latex": [
       "Quantum object: dims=[[2], [2]], shape=(2, 2), type='oper', dtype=Dense, isherm=True$$\\left(\\begin{array}{cc}1 & 0\\\\0 & 1\\end{array}\\right)$$"
      ],
      "text/plain": [
       "Quantum object: dims=[[2], [2]], shape=(2, 2), type='oper', dtype=Dense, isherm=True\n",
       "Qobj data =\n",
       "[[1. 0.]\n",
       " [0. 1.]]"
      ]
     },
     "execution_count": 22,
     "metadata": {},
     "output_type": "execute_result"
    }
   ],
   "source": [
    "## Getting hermition congjugate of q2\n",
    "q2.dag()"
   ]
  },
  {
   "cell_type": "code",
   "execution_count": 23,
   "id": "2fdf33dc-4885-43b5-a7d5-a20334119e88",
   "metadata": {},
   "outputs": [
    {
     "data": {
      "text/latex": [
       "Quantum object: dims=[[2], [2]], shape=(2, 2), type='oper', dtype=Dense, isherm=False$$\\left(\\begin{array}{cc}1j & 0\\\\0 & 1j\\end{array}\\right)$$"
      ],
      "text/plain": [
       "Quantum object: dims=[[2], [2]], shape=(2, 2), type='oper', dtype=Dense, isherm=False\n",
       "Qobj data =\n",
       "[[0.+1.j 0.+0.j]\n",
       " [0.+0.j 0.+1.j]]"
      ]
     },
     "execution_count": 23,
     "metadata": {},
     "output_type": "execute_result"
    }
   ],
   "source": [
    "q3 = Qobj([[1j,0],[0,1j]])\n",
    "q3"
   ]
  },
  {
   "cell_type": "code",
   "execution_count": 24,
   "id": "e31c8eb0-4525-4189-bb03-88aea8ca3cfb",
   "metadata": {},
   "outputs": [
    {
     "name": "stdout",
     "output_type": "stream",
     "text": [
      "Checking if q2 if hermition :  False\n",
      "Finding dimensions of q2 : [[2], [2]]\n",
      "Checking type of q2 :  oper\n"
     ]
    }
   ],
   "source": [
    "print(\"Checking if q2 if hermition : \",q3.isherm)\n",
    "print(\"Finding dimensions of q2 :\",q3.dims)\n",
    "print(\"Checking type of q2 : \",q3.type)"
   ]
  },
  {
   "cell_type": "code",
   "execution_count": 25,
   "id": "7beadd35-b382-4f6b-ac11-921e13e38586",
   "metadata": {},
   "outputs": [
    {
     "data": {
      "text/latex": [
       "Quantum object: dims=[[2], [2]], shape=(2, 2), type='oper', dtype=Dense, isherm=False$$\\left(\\begin{array}{cc}-1j & 0\\\\0 & -1j\\end{array}\\right)$$"
      ],
      "text/plain": [
       "Quantum object: dims=[[2], [2]], shape=(2, 2), type='oper', dtype=Dense, isherm=False\n",
       "Qobj data =\n",
       "[[0.-1.j 0.-0.j]\n",
       " [0.-0.j 0.-1.j]]"
      ]
     },
     "execution_count": 25,
     "metadata": {},
     "output_type": "execute_result"
    }
   ],
   "source": [
    "## Getting hermition congjugate of q3\n",
    "q3.dag()"
   ]
  },
  {
   "cell_type": "code",
   "execution_count": 26,
   "id": "c224a180-394c-4598-94d7-0bbea643cbaf",
   "metadata": {},
   "outputs": [
    {
     "data": {
      "text/plain": [
       "2j"
      ]
     },
     "execution_count": 26,
     "metadata": {},
     "output_type": "execute_result"
    }
   ],
   "source": [
    "## Finding trace of the matrix\n",
    "q3.tr()"
   ]
  },
  {
   "cell_type": "code",
   "execution_count": 29,
   "id": "9a83096b-020a-4d7e-882c-b3eae9152f75",
   "metadata": {},
   "outputs": [
    {
     "data": {
      "text/latex": [
       "Quantum object: dims=[[2], [2]], shape=(2, 2), type='oper', dtype=Dense, isherm=False$$\\left(\\begin{array}{cc}0 & -1j\\\\-1j & 0\\end{array}\\right)$$"
      ],
      "text/plain": [
       "Quantum object: dims=[[2], [2]], shape=(2, 2), type='oper', dtype=Dense, isherm=False\n",
       "Qobj data =\n",
       "[[ 0.+0.j -0.-1.j]\n",
       " [-0.-1.j  0.+0.j]]"
      ]
     },
     "execution_count": 29,
     "metadata": {},
     "output_type": "execute_result"
    }
   ],
   "source": [
    "## Creating a sigma Y pauli operator\n",
    "sy = Qobj([[0,-1j],[-1j,0]])\n",
    "sy"
   ]
  },
  {
   "cell_type": "code",
   "execution_count": 30,
   "id": "f70f54ec-bc19-404d-9a97-ed4e0bde37d9",
   "metadata": {},
   "outputs": [
    {
     "data": {
      "text/latex": [
       "Quantum object: dims=[[2], [2]], shape=(2, 2), type='oper', dtype=Dense, isherm=True$$\\left(\\begin{array}{cc}1 & 0\\\\0 & -1\\end{array}\\right)$$"
      ],
      "text/plain": [
       "Quantum object: dims=[[2], [2]], shape=(2, 2), type='oper', dtype=Dense, isherm=True\n",
       "Qobj data =\n",
       "[[ 1.  0.]\n",
       " [ 0. -1.]]"
      ]
     },
     "execution_count": 30,
     "metadata": {},
     "output_type": "execute_result"
    }
   ],
   "source": [
    "## Creating a sigma Z pauli operator\n",
    "sz = Qobj([[1,0],[0,-1]])\n",
    "sz"
   ]
  },
  {
   "cell_type": "code",
   "execution_count": 31,
   "id": "2db4899f-c8ed-4c2b-88e7-d757ec77d28a",
   "metadata": {},
   "outputs": [
    {
     "data": {
      "text/latex": [
       "Quantum object: dims=[[2], [2]], shape=(2, 2), type='oper', dtype=Dense, isherm=False$$\\left(\\begin{array}{cc}1 & -0.100j\\\\-0.100j & -1\\end{array}\\right)$$"
      ],
      "text/plain": [
       "Quantum object: dims=[[2], [2]], shape=(2, 2), type='oper', dtype=Dense, isherm=False\n",
       "Qobj data =\n",
       "[[ 1.+0.j   0.-0.1j]\n",
       " [ 0.-0.1j -1.+0.j ]]"
      ]
     },
     "execution_count": 31,
     "metadata": {},
     "output_type": "execute_result"
    }
   ],
   "source": [
    "# getting the hamilatonain operator\n",
    "H = 1.0*sz + 0.1*sy\n",
    "H"
   ]
  },
  {
   "cell_type": "code",
   "execution_count": 32,
   "id": "d02a9ef2-bb95-4dbb-a845-0948e900d212",
   "metadata": {},
   "outputs": [
    {
     "data": {
      "text/plain": [
       "array([-0.99498744+0.j,  0.99498744+0.j])"
      ]
     },
     "execution_count": 32,
     "metadata": {},
     "output_type": "execute_result"
    }
   ],
   "source": [
    "# Getting inner eigen energies\n",
    "H.eigenenergies()"
   ]
  },
  {
   "cell_type": "code",
   "execution_count": 34,
   "id": "545a6763-36e9-4729-9e32-6c1249683358",
   "metadata": {},
   "outputs": [
    {
     "data": {
      "text/plain": [
       "False"
      ]
     },
     "execution_count": 34,
     "metadata": {},
     "output_type": "execute_result"
    }
   ],
   "source": [
    "H.isherm"
   ]
  },
  {
   "cell_type": "code",
   "execution_count": 35,
   "id": "606906b2-e356-4a25-9639-5e85b7ee8cc0",
   "metadata": {},
   "outputs": [
    {
     "data": {
      "text/latex": [
       "Quantum object: dims=[[2], [2]], shape=(2, 2), type='oper', dtype=Dense, isherm=False$$\\left(\\begin{array}{cc}1 & 0.100j\\\\0.100j & -1\\end{array}\\right)$$"
      ],
      "text/plain": [
       "Quantum object: dims=[[2], [2]], shape=(2, 2), type='oper', dtype=Dense, isherm=False\n",
       "Qobj data =\n",
       "[[ 1.-0.j   0.+0.1j]\n",
       " [ 0.+0.1j -1.-0.j ]]"
      ]
     },
     "execution_count": 35,
     "metadata": {},
     "output_type": "execute_result"
    }
   ],
   "source": [
    "H.dag()"
   ]
  },
  {
   "cell_type": "code",
   "execution_count": null,
   "id": "ca15b693-e356-4d31-bb45-0d3f19ec0620",
   "metadata": {},
   "outputs": [],
   "source": []
  }
 ],
 "metadata": {
  "kernelspec": {
   "display_name": "Python 3 (ipykernel)",
   "language": "python",
   "name": "python3"
  },
  "language_info": {
   "codemirror_mode": {
    "name": "ipython",
    "version": 3
   },
   "file_extension": ".py",
   "mimetype": "text/x-python",
   "name": "python",
   "nbconvert_exporter": "python",
   "pygments_lexer": "ipython3",
   "version": "3.11.4"
  }
 },
 "nbformat": 4,
 "nbformat_minor": 5
}
